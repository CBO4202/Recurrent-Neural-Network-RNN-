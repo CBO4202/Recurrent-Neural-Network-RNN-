{
 "cells": [
  {
   "cell_type": "markdown",
   "id": "0d20393a-d1b7-4fa8-87b2-130a120932a2",
   "metadata": {},
   "source": [
    "# Recurrent Neural Network (RNN) Classification Workflow"
   ]
  },
  {
   "cell_type": "markdown",
   "id": "33282bd8-d27d-41f4-b516-9d0d473cad79",
   "metadata": {},
   "source": [
    "# Introduction\n",
    "\n",
    "In this tutorial, we will walk through the process of building a text classification model using Recurrent Neural Networks (RNNs) with the IMDB dataset. The IMDB dataset consists of movie reviews labeled as positive or negative, making it an excellent dataset for binary classification tasks.\n",
    "\n",
    "## Recurrent Neural Networks (RNNs)\n",
    "\n",
    "Recurrent Neural Networks (RNNs) are a class of neural networks designed to recognize patterns in sequences of data, such as text, time series, or speech. Unlike traditional neural networks, RNNs have connections that form directed cycles, allowing information to persist. This makes them particularly effective for tasks where the order of data points is important.\n",
    "\n",
    "RNNs maintain a hidden state that captures information from previous time steps, enabling them to retain context. This is particularly useful in natural language processing tasks, where the meaning of a word can depend on the preceding words.\n",
    "\n",
    "## Considerations for Text Classification\n",
    "\n",
    "When using RNNs for text classification, several considerations are essential:\n",
    "\n",
    "1. **Data Preprocessing**: Text data must be preprocessed to convert it into a format suitable for RNNs. This includes tokenization, padding, and encoding the text into numerical representations.\n",
    "2. **Sequence Length**: The length of input sequences should be consistent. This is typically achieved through padding or truncation.\n",
    "3. **Vocabulary Size**: The size of the vocabulary (number of unique words) can impact the model's performance. A larger vocabulary captures more information but requires more computational resources.\n",
    "4. **Model Complexity**: The architecture of the RNN (number of layers, number of units per layer) should be chosen based on the complexity of the task and the available computational resources.\n",
    "\n",
    "## Pros and Cons of RNNs\n",
    "\n",
    "**Pros:**\n",
    "- **Contextual Understanding**: RNNs can maintain context across sequences, making them effective for tasks where the order of data is important.\n",
    "- **Versatility**: They can be used for various sequential data tasks, including language modeling, machine translation, and time series prediction.\n",
    "\n",
    "**Cons:**\n",
    "- **Vanishing Gradient Problem**: RNNs can suffer from the vanishing gradient problem, where gradients diminish as they are backpropagated through many layers, making training difficult.\n",
    "- **Computationally Intensive**: Training RNNs can be time-consuming and require significant computational resources, especially for long sequences.\n",
    "\n",
    "## Required Libraries\n",
    "\n",
    "To implement a text classification model with RNNs, we will use the following libraries:\n",
    "\n",
    "- **NumPy**: For numerical operations.\n",
    "- **TensorFlow/Keras**: For building and training the neural network model.\n",
    "- **IMDB Dataset**: Available in Keras, this dataset provides pre-processed movie reviews for training and testing.\n",
    "\n",
    "Here are the specific imports needed:\n",
    "\n",
    "```python\n",
    "import numpy as np\n",
    "from tensorflow.keras.datasets import imdb\n",
    "from tensorflow.keras.preprocessing import sequence\n",
    "from tensorflow.keras.models import Sequential\n",
    "from tensorflow.keras.layers import Embedding, SimpleRNN, Dense\n",
    "from tensorflow.keras.layers import LSTM  # Optionally, you can use LSTM instead of SimpleRNN\n"
   ]
  },
  {
   "cell_type": "markdown",
   "id": "3215b215-e05b-4359-bb6a-b0cc196c622b",
   "metadata": {},
   "source": [
    "## IMDB Dataset\n",
    "\n",
    "The IMDB dataset is a collection of 50,000 highly polar movie reviews labeled as either positive or negative. It is commonly used for binary sentiment classification tasks. This dataset is split evenly into 25,000 training and 25,000 testing samples, with an equal number of positive and negative reviews in each set.\n",
    "\n",
    "The reviews have been preprocessed, and each review is encoded as a sequence of word indexes (integers). For this tutorial, we will limit our vocabulary to the 10,000 most frequent words.\n",
    "\n",
    "The IMDB dataset is a benchmark dataset in the field of natural language processing and machine learning, providing a practical platform to evaluate algorithms for text classification.\n"
   ]
  },
  {
   "cell_type": "markdown",
   "id": "ca0d02f8-3109-403a-be09-cf1b5560794d",
   "metadata": {},
   "source": [
    "## Step 1: Import Necessary Libraries"
   ]
  },
  {
   "cell_type": "code",
   "execution_count": 6,
   "id": "e16c76e4-a25d-405a-91b6-225fff19d374",
   "metadata": {},
   "outputs": [],
   "source": [
    "import numpy as np\n",
    "from tensorflow.keras.datasets import imdb\n",
    "from tensorflow.keras.preprocessing import sequence\n",
    "from tensorflow.keras.models import Sequential\n",
    "from tensorflow.keras.layers import Embedding, SimpleRNN, Dense\n",
    "from tensorflow.keras.layers import LSTM  # Optionally, you can use LSTM instead of SimpleRNN"
   ]
  },
  {
   "cell_type": "markdown",
   "id": "7363b992-b0b1-4653-b54d-96aeec0a0644",
   "metadata": {},
   "source": [
    "## Step 2: Load and Prepare the Data\n",
    "- We'll load this dataset, and then pad the sequences to ensure they are of the same length."
   ]
  },
  {
   "cell_type": "code",
   "execution_count": 7,
   "id": "86bb1d0e-09ff-4868-9512-68921b65bacd",
   "metadata": {},
   "outputs": [
    {
     "name": "stdout",
     "output_type": "stream",
     "text": [
      "x_train shape: (25000, 500)\n",
      "x_test shape: (25000, 500)\n"
     ]
    }
   ],
   "source": [
    "# Set parameters\n",
    "max_features = 10000  # Number of words to consider as features\n",
    "maxlen = 500  # Cut texts after this number of words (among top max_features most common words)\n",
    "batch_size = 32\n",
    "\n",
    "# Load the data\n",
    "(x_train, y_train), (x_test, y_test) = imdb.load_data(num_words=max_features)\n",
    "\n",
    "# Pad sequences (samples x time)\n",
    "x_train = sequence.pad_sequences(x_train, maxlen=maxlen)\n",
    "x_test = sequence.pad_sequences(x_test, maxlen=maxlen)\n",
    "\n",
    "print(f'x_train shape: {x_train.shape}')\n",
    "print(f'x_test shape: {x_test.shape}')\n"
   ]
  },
  {
   "cell_type": "markdown",
   "id": "a0af56c6-01d1-4054-a361-9ab83cdd98b7",
   "metadata": {},
   "source": [
    "## Step 3: Build the RNN Model\n",
    "- Here, we'll create a Sequential model with an Embedding layer, a SimpleRNN (or LSTM) layer, and a Dense layer for classification."
   ]
  },
  {
   "cell_type": "code",
   "execution_count": 8,
   "id": "172b44a7-9df0-4075-9fdd-ecf137cef36a",
   "metadata": {},
   "outputs": [
    {
     "name": "stdout",
     "output_type": "stream",
     "text": [
      "Model: \"sequential\"\n",
      "_________________________________________________________________\n",
      " Layer (type)                Output Shape              Param #   \n",
      "=================================================================\n",
      " embedding (Embedding)       (None, None, 32)          320000    \n",
      "                                                                 \n",
      " simple_rnn (SimpleRNN)      (None, 32)                2080      \n",
      "                                                                 \n",
      " dense (Dense)               (None, 1)                 33        \n",
      "                                                                 \n",
      "=================================================================\n",
      "Total params: 322,113\n",
      "Trainable params: 322,113\n",
      "Non-trainable params: 0\n",
      "_________________________________________________________________\n",
      "None\n"
     ]
    }
   ],
   "source": [
    "model = Sequential()\n",
    "model.add(Embedding(max_features, 32))\n",
    "model.add(SimpleRNN(32))  # You can replace SimpleRNN with LSTM if you prefer\n",
    "model.add(Dense(1, activation='sigmoid'))\n",
    "\n",
    "model.compile(optimizer='adam', loss='binary_crossentropy', metrics=['accuracy'])\n",
    "\n",
    "print(model.summary())\n"
   ]
  },
  {
   "cell_type": "markdown",
   "id": "f21ef63f-e2f7-4e5b-842f-d19f0eb99ee8",
   "metadata": {},
   "source": [
    "## Step 4: Train the Model"
   ]
  },
  {
   "cell_type": "code",
   "execution_count": 9,
   "id": "197fe2a5-cfc7-40a3-b949-a889bf3dd224",
   "metadata": {},
   "outputs": [
    {
     "name": "stdout",
     "output_type": "stream",
     "text": [
      "Epoch 1/10\n"
     ]
    },
    {
     "name": "stderr",
     "output_type": "stream",
     "text": [
      "2024-07-30 00:24:41.769650: W tensorflow/tsl/platform/profile_utils/cpu_utils.cc:128] Failed to get CPU frequency: 0 Hz\n"
     ]
    },
    {
     "name": "stdout",
     "output_type": "stream",
     "text": [
      "625/625 [==============================] - 19s 30ms/step - loss: 0.5953 - accuracy: 0.6633 - val_loss: 0.4697 - val_accuracy: 0.7880\n",
      "Epoch 2/10\n",
      "625/625 [==============================] - 19s 30ms/step - loss: 0.3611 - accuracy: 0.8463 - val_loss: 0.4236 - val_accuracy: 0.8236\n",
      "Epoch 3/10\n",
      "625/625 [==============================] - 19s 30ms/step - loss: 0.1925 - accuracy: 0.9281 - val_loss: 0.4618 - val_accuracy: 0.8218\n",
      "Epoch 4/10\n",
      "625/625 [==============================] - 19s 30ms/step - loss: 0.0781 - accuracy: 0.9748 - val_loss: 0.8066 - val_accuracy: 0.7016\n",
      "Epoch 5/10\n",
      "625/625 [==============================] - 19s 30ms/step - loss: 0.0453 - accuracy: 0.9863 - val_loss: 0.7045 - val_accuracy: 0.7938\n",
      "Epoch 6/10\n",
      "625/625 [==============================] - 19s 30ms/step - loss: 0.0291 - accuracy: 0.9912 - val_loss: 0.7358 - val_accuracy: 0.8032\n",
      "Epoch 7/10\n",
      "625/625 [==============================] - 19s 30ms/step - loss: 0.0176 - accuracy: 0.9954 - val_loss: 0.8163 - val_accuracy: 0.7722\n",
      "Epoch 8/10\n",
      "625/625 [==============================] - 19s 30ms/step - loss: 0.0169 - accuracy: 0.9951 - val_loss: 0.8867 - val_accuracy: 0.7956\n",
      "Epoch 9/10\n",
      "625/625 [==============================] - 19s 30ms/step - loss: 0.0490 - accuracy: 0.9818 - val_loss: 0.8768 - val_accuracy: 0.7926\n",
      "Epoch 10/10\n",
      "625/625 [==============================] - 19s 30ms/step - loss: 0.0429 - accuracy: 0.9851 - val_loss: 0.8490 - val_accuracy: 0.7934\n"
     ]
    }
   ],
   "source": [
    "history = model.fit(x_train, y_train, epochs=10, batch_size=batch_size, validation_split=0.2)\n"
   ]
  },
  {
   "cell_type": "markdown",
   "id": "53c14c3d-818b-44e7-b33c-f292383e24d5",
   "metadata": {},
   "source": [
    "## Step 5: Evaluate the Model\n",
    "- Finally, we'll evaluate the model's performance on the test data"
   ]
  },
  {
   "cell_type": "code",
   "execution_count": 10,
   "id": "0d11fe63-6248-443a-ab65-f0e1e4b1adf7",
   "metadata": {},
   "outputs": [
    {
     "name": "stdout",
     "output_type": "stream",
     "text": [
      "782/782 [==============================] - 5s 6ms/step - loss: 0.8628 - accuracy: 0.7894\n",
      "Test Loss: 0.8628067374229431\n",
      "Test Accuracy: 0.789359986782074\n"
     ]
    }
   ],
   "source": [
    "test_loss, test_acc = model.evaluate(x_test, y_test, batch_size=batch_size)\n",
    "print(f'Test Loss: {test_loss}')\n",
    "print(f'Test Accuracy: {test_acc}')\n"
   ]
  },
  {
   "cell_type": "markdown",
   "id": "3dbd1630-7fd9-49d8-963f-285d807ae0a4",
   "metadata": {},
   "source": [
    "### 1. Confusion Matrix\n",
    "A confusion matrix provides a detailed breakdown of the model's performance by showing the counts of true positive, true negative, false positive, and false negative predictions."
   ]
  },
  {
   "cell_type": "code",
   "execution_count": 11,
   "id": "1608777d-59d7-47fb-92ca-d9f6ad369e6d",
   "metadata": {},
   "outputs": [
    {
     "name": "stdout",
     "output_type": "stream",
     "text": [
      "782/782 [==============================] - 4s 6ms/step\n"
     ]
    },
    {
     "data": {
      "image/png": "[encoded data removed]",
      "text/plain": [
       "<Figure size 1000x700 with 2 Axes>"
      ]
     },
     "metadata": {},
     "output_type": "display_data"
    }
   ],
   "source": [
    "from sklearn.metrics import confusion_matrix\n",
    "import seaborn as sns\n",
    "import matplotlib.pyplot as plt\n",
    "\n",
    "y_pred = (model.predict(x_test) > 0.5).astype(\"int32\")\n",
    "cm = confusion_matrix(y_test, y_pred)\n",
    "\n",
    "plt.figure(figsize=(10, 7))\n",
    "sns.heatmap(cm, annot=True, fmt='d', cmap='Blues')\n",
    "plt.xlabel('Predicted')\n",
    "plt.ylabel('True')\n",
    "plt.show()\n"
   ]
  },
  {
   "cell_type": "markdown",
   "id": "4b18062f-b0d1-471d-aac2-092e541cb2a2",
   "metadata": {},
   "source": [
    "### 2. Precision, Recall, and F1 Score\n",
    "Precision, recall, and F1 score provide a more nuanced evaluation of the model's performance, especially useful in cases of imbalanced classes"
   ]
  },
  {
   "cell_type": "code",
   "execution_count": 12,
   "id": "9250c4be-aef9-476b-9a19-eba400168273",
   "metadata": {},
   "outputs": [
    {
     "name": "stdout",
     "output_type": "stream",
     "text": [
      "Precision: 0.7881153417237534\n",
      "Recall: 0.79152\n",
      "F1 Score: 0.7898140017562066\n"
     ]
    }
   ],
   "source": [
    "from sklearn.metrics import precision_score, recall_score, f1_score\n",
    "\n",
    "precision = precision_score(y_test, y_pred)\n",
    "recall = recall_score(y_test, y_pred)\n",
    "f1 = f1_score(y_test, y_pred)\n",
    "\n",
    "print(f'Precision: {precision}')\n",
    "print(f'Recall: {recall}')\n",
    "print(f'F1 Score: {f1}')\n"
   ]
  },
  {
   "cell_type": "markdown",
   "id": "c7d21d5d-4add-4f54-a197-e4e1441b1583",
   "metadata": {},
   "source": [
    "### 3. ROC Curve and AUC\n",
    "The Receiver Operating Characteristic (ROC) curve plots the true positive rate against the false positive rate at various threshold settings, and the Area Under the Curve (AUC) quantifies the overall ability of the model to discriminate between positive and negative classes."
   ]
  },
  {
   "cell_type": "code",
   "execution_count": 13,
   "id": "1b72de01-40f6-4b72-8b64-660acf866006",
   "metadata": {},
   "outputs": [
    {
     "name": "stdout",
     "output_type": "stream",
     "text": [
      "782/782 [==============================] - 4s 6ms/step\n"
     ]
    },
    {
     "data": {
      "image/png": "[encoded data removed]",
      "text/plain": [
       "<Figure size 640x480 with 1 Axes>"
      ]
     },
     "metadata": {},
     "output_type": "display_data"
    }
   ],
   "source": [
    "from sklearn.metrics import roc_curve, auc\n",
    "\n",
    "y_pred_proba = model.predict(x_test).ravel()\n",
    "fpr, tpr, thresholds = roc_curve(y_test, y_pred_proba)\n",
    "roc_auc = auc(fpr, tpr)\n",
    "\n",
    "plt.figure()\n",
    "plt.plot(fpr, tpr, color='darkorange', lw=2, label=f'ROC curve (area = {roc_auc:.2f})')\n",
    "plt.plot([0, 1], [0, 1], color='navy', lw=2, linestyle='--')\n",
    "plt.xlim([0.0, 1.0])\n",
    "plt.ylim([0.0, 1.05])\n",
    "plt.xlabel('False Positive Rate')\n",
    "plt.ylabel('True Positive Rate')\n",
    "plt.title('Receiver Operating Characteristic')\n",
    "plt.legend(loc=\"lower right\")\n",
    "plt.show()\n"
   ]
  },
  {
   "cell_type": "markdown",
   "id": "24c2cc6d-1957-4f1c-bb44-73c7d6fd644e",
   "metadata": {},
   "source": [
    "### 4. Log Loss\n",
    "Logarithmic Loss (Log Loss) or Binary Crossentropy measures the performance of a classification model whose output is a probability value between 0 and 1."
   ]
  },
  {
   "cell_type": "code",
   "execution_count": 16,
   "id": "7fec811c-ab62-404d-aad6-925bab2d6c3b",
   "metadata": {},
   "outputs": [
    {
     "name": "stdout",
     "output_type": "stream",
     "text": [
      "Log Loss: 0.8628105470786224\n"
     ]
    }
   ],
   "source": [
    "from sklearn.metrics import log_loss\n",
    "\n",
    "log_loss_value = log_loss(y_test, y_pred_proba)\n",
    "print(f'Log Loss: {log_loss_value}')\n"
   ]
  },
  {
   "cell_type": "markdown",
   "id": "bbe55487-de3f-4b4b-981b-b04e15952bf5",
   "metadata": {},
   "source": [
    "### 5. Classification Report\n",
    "A classification report provides a comprehensive summary of the model's precision, recall, F1 score, and support for each class."
   ]
  },
  {
   "cell_type": "code",
   "execution_count": 17,
   "id": "771a7f0d-b2e3-497a-ba10-4e6700c0ae3f",
   "metadata": {},
   "outputs": [
    {
     "name": "stdout",
     "output_type": "stream",
     "text": [
      "              precision    recall  f1-score   support\n",
      "\n",
      "           0       0.79      0.79      0.79     12500\n",
      "           1       0.79      0.79      0.79     12500\n",
      "\n",
      "    accuracy                           0.79     25000\n",
      "   macro avg       0.79      0.79      0.79     25000\n",
      "weighted avg       0.79      0.79      0.79     25000\n",
      "\n"
     ]
    }
   ],
   "source": [
    "from sklearn.metrics import classification_report\n",
    "\n",
    "report = classification_report(y_test, y_pred)\n",
    "print(report)\n"
   ]
  },
  {
   "cell_type": "markdown",
   "id": "d95b26ff-4d99-42de-ab12-3f99548f6c99",
   "metadata": {},
   "source": [
    "## Explanation\n",
    "1. Import Libraries: We import necessary modules from Keras and TensorFlow.\n",
    "2. Load Data: We load the IMDB dataset, which is pre-split into training and testing sets.\n",
    "3. Preprocess Data: We pad the sequences so that all inputs have the same length.\n",
    "4. Build Model: We construct an RNN model with an embedding layer, a recurrent layer (SimpleRNN or LSTM), and a dense output layer with a sigmoid activation function.\n",
    "5. Compile Model: We compile the model using the Adam optimizer and binary crossentropy loss function.\n",
    "6. Train Model: We train the model on the training data with a validation split to monitor performance on unseen data.\n",
    "7. Evaluate Model: We evaluate the model on the test set and print the loss and accuracy.\n",
    "\n",
    "This workflow provides a solid foundation for text classification using RNNs with the IMDB dataset. You can experiment with different hyperparameters, architectures, and layers to further optimize the model."
   ]
  },
  {
   "cell_type": "markdown",
   "id": "4050a822-57fa-4853-81b3-9bb50be89cbf",
   "metadata": {},
   "source": [
    "#### Author:\n",
    " Meghan Beverly"
   ]
  },
  {
   "cell_type": "code",
   "execution_count": null,
   "id": "d7216612-f727-4cf1-9b69-e2df727233d7",
   "metadata": {},
   "outputs": [],
   "source": []
  }
 ],
 "metadata": {
  "kernelspec": {
   "display_name": "Python 3 (ipykernel)",
   "language": "python",
   "name": "python3"
  },
  "language_info": {
   "codemirror_mode": {
    "name": "ipython",
    "version": 3
   },
   "file_extension": ".py",
   "mimetype": "text/x-python",
   "name": "python",
   "nbconvert_exporter": "python",
   "pygments_lexer": "ipython3",
   "version": "3.11.5"
  }
 },
 "nbformat": 4,
 "nbformat_minor": 5
}
